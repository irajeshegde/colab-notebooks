{
  "nbformat": 4,
  "nbformat_minor": 0,
  "metadata": {
    "colab": {
      "provenance": []
    },
    "kernelspec": {
      "name": "python3",
      "display_name": "Python 3"
    },
    "language_info": {
      "name": "python"
    }
  },
  "cells": [
    {
      "cell_type": "code",
      "execution_count": null,
      "metadata": {
        "id": "ww_Ed7tKNopP"
      },
      "outputs": [],
      "source": [
        "# Importing libraries\n",
        "import pandas as pd\n",
        "import nltk\n",
        "import spacy\n",
        "import gensim\n",
        "import textblob\n",
        "from nltk.stem import WordNetLemmatizer\n",
        "from textblob import Word, TextBlob\n",
        "from nltk.corpus import stopwords\n",
        "import warnings\n",
        "warnings.filterwarnings('ignore')"
      ]
    },
    {
      "cell_type": "code",
      "source": [
        "# Downloading NLTK data\n",
        "nltk.download('punkt')\n",
        "nltk.download('averaged_perceptron_tagger')\n",
        "nltk.download('maxent_ne_chunker')\n",
        "nltk.download('words')\n",
        "nltk.download('wordnet', quiet=True)\n",
        "nltk.download('omw-1.4', quiet=True)\n",
        "nltk.download('vader_lexicon', quiet=True)\n",
        "nltk.download('stopwords')"
      ],
      "metadata": {
        "id": "efPLZbj_N2kC",
        "colab": {
          "base_uri": "https://localhost:8080/"
        },
        "outputId": "ab3dce19-45de-48ed-999d-e33f3d8257bd"
      },
      "execution_count": null,
      "outputs": [
        {
          "output_type": "stream",
          "name": "stderr",
          "text": [
            "[nltk_data] Downloading package punkt to /root/nltk_data...\n",
            "[nltk_data]   Unzipping tokenizers/punkt.zip.\n",
            "[nltk_data] Downloading package averaged_perceptron_tagger to\n",
            "[nltk_data]     /root/nltk_data...\n",
            "[nltk_data]   Unzipping taggers/averaged_perceptron_tagger.zip.\n",
            "[nltk_data] Downloading package maxent_ne_chunker to\n",
            "[nltk_data]     /root/nltk_data...\n",
            "[nltk_data]   Unzipping chunkers/maxent_ne_chunker.zip.\n",
            "[nltk_data] Downloading package words to /root/nltk_data...\n",
            "[nltk_data]   Unzipping corpora/words.zip.\n",
            "[nltk_data] Downloading package stopwords to /root/nltk_data...\n",
            "[nltk_data]   Unzipping corpora/stopwords.zip.\n"
          ]
        },
        {
          "output_type": "execute_result",
          "data": {
            "text/plain": [
              "True"
            ]
          },
          "metadata": {},
          "execution_count": 2
        }
      ]
    },
    {
      "cell_type": "code",
      "source": [
        "# Loading the text data\n",
        "text = \"\"\"Inulinases are used for the production of high-fructose syrup and fructooligosaccharides, and are widely utilized in food and pharmaceutical industries. In this study, different carbon sources were screened for inulinase production by Aspergillus niger in shake flask fermentation. Optimum working conditions of the enzyme were determined. Additionally, some properties of produced enzyme were determined [activation (Ea)/inactivation (Eia) energies, Q10 value, inactivation rate constant (kd), half-life (t1/2), D value, Z value, enthalpy (ΔH), free energy (ΔG), and entropy (ΔS)]. Results showed that sugar beet molasses (SBM) was the best in the production of inulinase, which gave 383.73 U/mL activity at 30 °C, 200 rpm and initial pH 5.0 for 10 days with 2% (v/v) of the prepared spore solution. Optimum working conditions were 4.8 pH, 60 °C, and 10 min, which yielded 604.23 U/mL, 1.09 inulinase/sucrase ratio, and 2924.39 U/mg. Additionally, Ea and Eia of inulinase reaction were 37.30 and 112.86 kJ/mol, respectively. Beyond 60 °C, Q10 values of inulinase dropped below one. At 70 and 80 °C, t1/2 of inulinase was 33.6 and 7.2 min; therefore, inulinase is unstable at high temperatures, respectively. Additionally, t1/2, D, ΔH, ΔG values of inulinase decreased with the increase in temperature. Z values of inulinase were 7.21 °C. Negative values of ΔS showed that enzymes underwent a significant process of aggregation during denaturation. Consequently, SBM is a promising carbon source for inulinase production by A. niger. Also, this is the first report on the determination of some properties of A. niger A42 (ATCC 204,447) inulinase.\"\"\""
      ],
      "metadata": {
        "id": "kFs7fq9gN4wS"
      },
      "execution_count": null,
      "outputs": []
    },
    {
      "cell_type": "markdown",
      "source": [
        "# Print text"
      ],
      "metadata": {
        "id": "qp8z6Yz5jSxe"
      }
    },
    {
      "cell_type": "code",
      "source": [
        "print(text)"
      ],
      "metadata": {
        "colab": {
          "base_uri": "https://localhost:8080/"
        },
        "id": "0CEtuHu7jaON",
        "outputId": "a4475cf1-b8ef-4521-e14d-5ed33a22a468"
      },
      "execution_count": null,
      "outputs": [
        {
          "output_type": "stream",
          "name": "stdout",
          "text": [
            "Inulinases are used for the production of high-fructose syrup and fructooligosaccharides, and are widely utilized in food and pharmaceutical industries. In this study, different carbon sources were screened for inulinase production by Aspergillus niger in shake flask fermentation. Optimum working conditions of the enzyme were determined. Additionally, some properties of produced enzyme were determined [activation (Ea)/inactivation (Eia) energies, Q10 value, inactivation rate constant (kd), half-life (t1/2), D value, Z value, enthalpy (ΔH), free energy (ΔG), and entropy (ΔS)]. Results showed that sugar beet molasses (SBM) was the best in the production of inulinase, which gave 383.73 U/mL activity at 30 °C, 200 rpm and initial pH 5.0 for 10 days with 2% (v/v) of the prepared spore solution. Optimum working conditions were 4.8 pH, 60 °C, and 10 min, which yielded 604.23 U/mL, 1.09 inulinase/sucrase ratio, and 2924.39 U/mg. Additionally, Ea and Eia of inulinase reaction were 37.30 and 112.86 kJ/mol, respectively. Beyond 60 °C, Q10 values of inulinase dropped below one. At 70 and 80 °C, t1/2 of inulinase was 33.6 and 7.2 min; therefore, inulinase is unstable at high temperatures, respectively. Additionally, t1/2, D, ΔH, ΔG values of inulinase decreased with the increase in temperature. Z values of inulinase were 7.21 °C. Negative values of ΔS showed that enzymes underwent a significant process of aggregation during denaturation. Consequently, SBM is a promising carbon source for inulinase production by A. niger. Also, this is the first report on the determination of some properties of A. niger A42 (ATCC 204,447) inulinase.\n"
          ]
        }
      ]
    },
    {
      "cell_type": "markdown",
      "source": [
        "# Standardization of letters"
      ],
      "metadata": {
        "id": "UtZ0XgTXN9-y"
      }
    },
    {
      "cell_type": "code",
      "source": [
        "# standardization of letters\n",
        "text = text.lower()\n",
        "text"
      ],
      "metadata": {
        "id": "-oPeEHPbOA10",
        "colab": {
          "base_uri": "https://localhost:8080/",
          "height": 127
        },
        "outputId": "5ef3ade8-8a13-420d-838b-89a61a83eed2"
      },
      "execution_count": null,
      "outputs": [
        {
          "output_type": "execute_result",
          "data": {
            "text/plain": [
              "'inulinases are used for the production of high-fructose syrup and fructooligosaccharides, and are widely utilized in food and pharmaceutical industries. in this study, different carbon sources were screened for inulinase production by aspergillus niger in shake flask fermentation. optimum working conditions of the enzyme were determined. additionally, some properties of produced enzyme were determined [activation (ea)/inactivation (eia) energies, q10 value, inactivation rate constant (kd), half-life (t1/2), d value, z value, enthalpy (δh), free energy (δg), and entropy (δs)]. results showed that sugar beet molasses (sbm) was the best in the production of inulinase, which gave 383.73 u/ml activity at 30 °c, 200 rpm and initial ph 5.0 for 10 days with 2% (v/v) of the prepared spore solution. optimum working conditions were 4.8 ph, 60 °c, and 10 min, which yielded 604.23 u/ml, 1.09 inulinase/sucrase ratio, and 2924.39 u/mg. additionally, ea and eia of inulinase reaction were 37.30 and 112.86 kj/mol, respectively. beyond 60 °c, q10 values of inulinase dropped below one. at 70 and 80 °c, t1/2 of inulinase was 33.6 and 7.2 min; therefore, inulinase is unstable at high temperatures, respectively. additionally, t1/2, d, δh, δg values of inulinase decreased with the increase in temperature. z values of inulinase were 7.21 °c. negative values of δs showed that enzymes underwent a significant process of aggregation during denaturation. consequently, sbm is a promising carbon source for inulinase production by a. niger. also, this is the first report on the determination of some properties of a. niger a42 (atcc 204,447) inulinase.'"
            ],
            "application/vnd.google.colaboratory.intrinsic+json": {
              "type": "string"
            }
          },
          "metadata": {},
          "execution_count": 5
        }
      ]
    },
    {
      "cell_type": "markdown",
      "source": [
        "# Punctuation"
      ],
      "metadata": {
        "id": "Af1GRSRhOEtt"
      }
    },
    {
      "cell_type": "code",
      "source": [
        "import re\n",
        "text = re.sub(r'[^\\w\\s]', '', text)\n",
        "text"
      ],
      "metadata": {
        "id": "It7Jok1wOFpN",
        "colab": {
          "base_uri": "https://localhost:8080/",
          "height": 127
        },
        "outputId": "f89880bc-0e2c-464c-df00-53781b01d345"
      },
      "execution_count": null,
      "outputs": [
        {
          "output_type": "execute_result",
          "data": {
            "text/plain": [
              "'inulinases are used for the production of highfructose syrup and fructooligosaccharides and are widely utilized in food and pharmaceutical industries in this study different carbon sources were screened for inulinase production by aspergillus niger in shake flask fermentation optimum working conditions of the enzyme were determined additionally some properties of produced enzyme were determined activation eainactivation eia energies q10 value inactivation rate constant kd halflife t12 d value z value enthalpy δh free energy δg and entropy δs results showed that sugar beet molasses sbm was the best in the production of inulinase which gave 38373 uml activity at 30 c 200 rpm and initial ph 50 for 10 days with 2 vv of the prepared spore solution optimum working conditions were 48 ph 60 c and 10 min which yielded 60423 uml 109 inulinasesucrase ratio and 292439 umg additionally ea and eia of inulinase reaction were 3730 and 11286 kjmol respectively beyond 60 c q10 values of inulinase dropped below one at 70 and 80 c t12 of inulinase was 336 and 72 min therefore inulinase is unstable at high temperatures respectively additionally t12 d δh δg values of inulinase decreased with the increase in temperature z values of inulinase were 721 c negative values of δs showed that enzymes underwent a significant process of aggregation during denaturation consequently sbm is a promising carbon source for inulinase production by a niger also this is the first report on the determination of some properties of a niger a42 atcc 204447 inulinase'"
            ],
            "application/vnd.google.colaboratory.intrinsic+json": {
              "type": "string"
            }
          },
          "metadata": {},
          "execution_count": 6
        }
      ]
    },
    {
      "cell_type": "markdown",
      "source": [
        "# Numbers"
      ],
      "metadata": {
        "id": "VbnfBCDBOJhx"
      }
    },
    {
      "cell_type": "code",
      "source": [
        "text = re.sub(r'\\d', '', text)\n",
        "text"
      ],
      "metadata": {
        "id": "-2zPHnLBOMd9",
        "colab": {
          "base_uri": "https://localhost:8080/",
          "height": 127
        },
        "outputId": "c0318d9d-dffc-4180-8b24-bfe553ae7f70"
      },
      "execution_count": null,
      "outputs": [
        {
          "output_type": "execute_result",
          "data": {
            "text/plain": [
              "'inulinases are used for the production of highfructose syrup and fructooligosaccharides and are widely utilized in food and pharmaceutical industries in this study different carbon sources were screened for inulinase production by aspergillus niger in shake flask fermentation optimum working conditions of the enzyme were determined additionally some properties of produced enzyme were determined activation eainactivation eia energies q value inactivation rate constant kd halflife t d value z value enthalpy δh free energy δg and entropy δs results showed that sugar beet molasses sbm was the best in the production of inulinase which gave  uml activity at  c  rpm and initial ph  for  days with  vv of the prepared spore solution optimum working conditions were  ph  c and  min which yielded  uml  inulinasesucrase ratio and  umg additionally ea and eia of inulinase reaction were  and  kjmol respectively beyond  c q values of inulinase dropped below one at  and  c t of inulinase was  and  min therefore inulinase is unstable at high temperatures respectively additionally t d δh δg values of inulinase decreased with the increase in temperature z values of inulinase were  c negative values of δs showed that enzymes underwent a significant process of aggregation during denaturation consequently sbm is a promising carbon source for inulinase production by a niger also this is the first report on the determination of some properties of a niger a atcc  inulinase'"
            ],
            "application/vnd.google.colaboratory.intrinsic+json": {
              "type": "string"
            }
          },
          "metadata": {},
          "execution_count": 7
        }
      ]
    },
    {
      "cell_type": "markdown",
      "source": [
        "# Rare words"
      ],
      "metadata": {
        "id": "TWL0F5-bOUKW"
      }
    },
    {
      "cell_type": "code",
      "source": [
        "from collections import Counter\n",
        "\n",
        "def remove_rare_words(text, threshold=5):\n",
        "    words = nltk.word_tokenize(text)\n",
        "    word_freq = Counter(words)\n",
        "\n",
        "    filtered_words = [word for word in words if word_freq[word] >= threshold]\n",
        "\n",
        "    return ' '.join(filtered_words)\n",
        "\n",
        "text = remove_rare_words(text, threshold=2)\n",
        "text"
      ],
      "metadata": {
        "id": "2IyUc01WOV3s",
        "colab": {
          "base_uri": "https://localhost:8080/",
          "height": 108
        },
        "outputId": "8142bad5-b3d2-4443-be7a-da6751a1d17f"
      },
      "execution_count": null,
      "outputs": [
        {
          "output_type": "execute_result",
          "data": {
            "text/plain": [
              "'are for the production of and and are in and in this carbon were for inulinase production by niger in optimum working conditions of the enzyme were determined additionally some properties of enzyme were determined eia q value t d value z value δh δg and δs showed that sbm was the in the production of inulinase which uml at c and ph for with of the optimum working conditions were ph c and min which uml and additionally and eia of inulinase were and respectively c q values of inulinase at and c t of inulinase was and min inulinase is at respectively additionally t d δh δg values of inulinase with the in z values of inulinase were c values of δs showed that a of sbm is a carbon for inulinase production by a niger this is the the of some properties of a niger a inulinase'"
            ],
            "application/vnd.google.colaboratory.intrinsic+json": {
              "type": "string"
            }
          },
          "metadata": {},
          "execution_count": 8
        }
      ]
    },
    {
      "cell_type": "markdown",
      "source": [
        "# Tokenization"
      ],
      "metadata": {
        "id": "iiSXi2JqOdZs"
      }
    },
    {
      "cell_type": "code",
      "source": [
        "# Tokenize text using NLTK\n",
        "tokens = nltk.word_tokenize(text)\n",
        "print(tokens)"
      ],
      "metadata": {
        "id": "NEKxUYfEOe8j",
        "colab": {
          "base_uri": "https://localhost:8080/"
        },
        "outputId": "a507c15e-a25e-4a19-ca53-71350c07ecc1"
      },
      "execution_count": null,
      "outputs": [
        {
          "output_type": "stream",
          "name": "stdout",
          "text": [
            "['are', 'for', 'the', 'production', 'of', 'and', 'and', 'are', 'in', 'and', 'in', 'this', 'carbon', 'were', 'for', 'inulinase', 'production', 'by', 'niger', 'in', 'optimum', 'working', 'conditions', 'of', 'the', 'enzyme', 'were', 'determined', 'additionally', 'some', 'properties', 'of', 'enzyme', 'were', 'determined', 'eia', 'q', 'value', 't', 'd', 'value', 'z', 'value', 'δh', 'δg', 'and', 'δs', 'showed', 'that', 'sbm', 'was', 'the', 'in', 'the', 'production', 'of', 'inulinase', 'which', 'uml', 'at', 'c', 'and', 'ph', 'for', 'with', 'of', 'the', 'optimum', 'working', 'conditions', 'were', 'ph', 'c', 'and', 'min', 'which', 'uml', 'and', 'additionally', 'and', 'eia', 'of', 'inulinase', 'were', 'and', 'respectively', 'c', 'q', 'values', 'of', 'inulinase', 'at', 'and', 'c', 't', 'of', 'inulinase', 'was', 'and', 'min', 'inulinase', 'is', 'at', 'respectively', 'additionally', 't', 'd', 'δh', 'δg', 'values', 'of', 'inulinase', 'with', 'the', 'in', 'z', 'values', 'of', 'inulinase', 'were', 'c', 'values', 'of', 'δs', 'showed', 'that', 'a', 'of', 'sbm', 'is', 'a', 'carbon', 'for', 'inulinase', 'production', 'by', 'a', 'niger', 'this', 'is', 'the', 'the', 'of', 'some', 'properties', 'of', 'a', 'niger', 'a', 'inulinase']\n"
          ]
        }
      ]
    },
    {
      "cell_type": "markdown",
      "source": [
        "# spaCy - Tokenization"
      ],
      "metadata": {
        "id": "V1mvPAgfOl-2"
      }
    },
    {
      "cell_type": "code",
      "source": [
        "# Loading spaCy model\n",
        "nlp = spacy.load('en_core_web_sm')\n",
        "\n",
        "# Tokenize text using spaCy\n",
        "doc = nlp(text)\n",
        "tokens = [token.text for token in doc]\n",
        "print(tokens)"
      ],
      "metadata": {
        "id": "15q2pvxpOpQd",
        "colab": {
          "base_uri": "https://localhost:8080/"
        },
        "outputId": "ca5e9c82-266c-428d-fde4-554201c43c8c"
      },
      "execution_count": null,
      "outputs": [
        {
          "output_type": "stream",
          "name": "stdout",
          "text": [
            "['are', 'for', 'the', 'production', 'of', 'and', 'and', 'are', 'in', 'and', 'in', 'this', 'carbon', 'were', 'for', 'inulinase', 'production', 'by', 'niger', 'in', 'optimum', 'working', 'conditions', 'of', 'the', 'enzyme', 'were', 'determined', 'additionally', 'some', 'properties', 'of', 'enzyme', 'were', 'determined', 'eia', 'q', 'value', 't', 'd', 'value', 'z', 'value', 'δh', 'δg', 'and', 'δs', 'showed', 'that', 'sbm', 'was', 'the', 'in', 'the', 'production', 'of', 'inulinase', 'which', 'uml', 'at', 'c', 'and', 'ph', 'for', 'with', 'of', 'the', 'optimum', 'working', 'conditions', 'were', 'ph', 'c', 'and', 'min', 'which', 'uml', 'and', 'additionally', 'and', 'eia', 'of', 'inulinase', 'were', 'and', 'respectively', 'c', 'q', 'values', 'of', 'inulinase', 'at', 'and', 'c', 't', 'of', 'inulinase', 'was', 'and', 'min', 'inulinase', 'is', 'at', 'respectively', 'additionally', 't', 'd', 'δh', 'δg', 'values', 'of', 'inulinase', 'with', 'the', 'in', 'z', 'values', 'of', 'inulinase', 'were', 'c', 'values', 'of', 'δs', 'showed', 'that', 'a', 'of', 'sbm', 'is', 'a', 'carbon', 'for', 'inulinase', 'production', 'by', 'a', 'niger', 'this', 'is', 'the', 'the', 'of', 'some', 'properties', 'of', 'a', 'niger', 'a', 'inulinase']\n"
          ]
        }
      ]
    },
    {
      "cell_type": "markdown",
      "source": [
        "# Stopwords"
      ],
      "metadata": {
        "id": "xkfoG0HeOsSN"
      }
    },
    {
      "cell_type": "code",
      "source": [
        "# Import stopwords from NLTK\n",
        "from nltk.corpus import stopwords\n",
        "stop_words = set(stopwords.words('english'))\n",
        "\n",
        "# Remove stopwords from tokens\n",
        "filtered_tokens = [token for token in tokens if token not in stop_words]\n",
        "print(filtered_tokens)"
      ],
      "metadata": {
        "id": "87I-p6wlOraU",
        "colab": {
          "base_uri": "https://localhost:8080/"
        },
        "outputId": "f9f2fcac-958d-4776-b7e8-e479bc6c4145"
      },
      "execution_count": null,
      "outputs": [
        {
          "output_type": "stream",
          "name": "stdout",
          "text": [
            "['production', 'carbon', 'inulinase', 'production', 'niger', 'optimum', 'working', 'conditions', 'enzyme', 'determined', 'additionally', 'properties', 'enzyme', 'determined', 'eia', 'q', 'value', 'value', 'z', 'value', 'δh', 'δg', 'δs', 'showed', 'sbm', 'production', 'inulinase', 'uml', 'c', 'ph', 'optimum', 'working', 'conditions', 'ph', 'c', 'min', 'uml', 'additionally', 'eia', 'inulinase', 'respectively', 'c', 'q', 'values', 'inulinase', 'c', 'inulinase', 'min', 'inulinase', 'respectively', 'additionally', 'δh', 'δg', 'values', 'inulinase', 'z', 'values', 'inulinase', 'c', 'values', 'δs', 'showed', 'sbm', 'carbon', 'inulinase', 'production', 'niger', 'properties', 'niger', 'inulinase']\n"
          ]
        }
      ]
    },
    {
      "cell_type": "markdown",
      "source": [
        "# Stemming"
      ],
      "metadata": {
        "id": "zdrXwCzmPB8O"
      }
    },
    {
      "cell_type": "code",
      "source": [
        "# Importing PorterStemmer from NLTK\n",
        "from nltk.stem import PorterStemmer\n",
        "stemmer = PorterStemmer()\n",
        "\n",
        "# Stem tokens using PorterStemmer\n",
        "stemmed_tokens = [stemmer.stem(token) for token in filtered_tokens]\n",
        "print(stemmed_tokens)"
      ],
      "metadata": {
        "id": "e0hxtpC_PDC9",
        "colab": {
          "base_uri": "https://localhost:8080/"
        },
        "outputId": "5804d916-a819-4628-f90b-e803154a29a7"
      },
      "execution_count": null,
      "outputs": [
        {
          "output_type": "stream",
          "name": "stdout",
          "text": [
            "['product', 'carbon', 'inulinas', 'product', 'niger', 'optimum', 'work', 'condit', 'enzym', 'determin', 'addit', 'properti', 'enzym', 'determin', 'eia', 'q', 'valu', 'valu', 'z', 'valu', 'δh', 'δg', 'δs', 'show', 'sbm', 'product', 'inulinas', 'uml', 'c', 'ph', 'optimum', 'work', 'condit', 'ph', 'c', 'min', 'uml', 'addit', 'eia', 'inulinas', 'respect', 'c', 'q', 'valu', 'inulinas', 'c', 'inulinas', 'min', 'inulinas', 'respect', 'addit', 'δh', 'δg', 'valu', 'inulinas', 'z', 'valu', 'inulinas', 'c', 'valu', 'δs', 'show', 'sbm', 'carbon', 'inulinas', 'product', 'niger', 'properti', 'niger', 'inulinas']\n"
          ]
        }
      ]
    },
    {
      "cell_type": "markdown",
      "source": [
        "# spaCy - Lemmatization"
      ],
      "metadata": {
        "id": "vAZRfdT2PJaD"
      }
    },
    {
      "cell_type": "code",
      "source": [
        "# Loading the English language model\n",
        "nlp = spacy.load(\"en_core_web_sm\")\n",
        "\n",
        "# Join the list into a sentence\n",
        "sentence = \" \".join(filtered_tokens)\n",
        "\n",
        "# Process the sentence with spaCy\n",
        "doc = nlp(sentence)\n",
        "\n",
        "# Lemmatize and print the lemmatized tokens\n",
        "lemmatized_tokens = [token.lemma_ for token in doc]\n",
        "print(lemmatized_tokens)"
      ],
      "metadata": {
        "id": "DMSTWbxBPLom",
        "colab": {
          "base_uri": "https://localhost:8080/"
        },
        "outputId": "2709cddc-e2ba-4233-abcb-a22660eeec59"
      },
      "execution_count": null,
      "outputs": [
        {
          "output_type": "stream",
          "name": "stdout",
          "text": [
            "['production', 'carbon', 'inulinase', 'production', 'niger', 'optimum', 'working', 'condition', 'enzyme', 'determine', 'additionally', 'property', 'enzyme', 'determine', 'eia', 'q', 'value', 'value', 'z', 'value', 'δh', 'δg', 'δs', 'show', 'sbm', 'production', 'inulinase', 'uml', 'c', 'ph', 'optimum', 'working', 'condition', 'ph', 'c', 'min', 'uml', 'additionally', 'eia', 'inulinase', 'respectively', 'c', 'q', 'value', 'inulinase', 'c', 'inulinase', 'min', 'inulinase', 'respectively', 'additionally', 'δh', 'δg', 'value', 'inulinase', 'z', 'value', 'inulinase', 'c', 'value', 'δs', 'show', 'sbm', 'carbon', 'inulinase', 'production', 'niger', 'property', 'niger', 'inulinase']\n"
          ]
        }
      ]
    },
    {
      "cell_type": "markdown",
      "source": [
        "# Part-of-speech tagging (Pos_Tag)"
      ],
      "metadata": {
        "id": "R6m_KJUqPPb7"
      }
    },
    {
      "cell_type": "code",
      "source": [
        "# Tokenize the text\n",
        "tokens = nltk.word_tokenize(text)\n",
        "\n",
        "# Tag each token with its part-of-speech\n",
        "tags = nltk.pos_tag(tokens)\n",
        "\n",
        "# Chunk the tagged tokens into named entities\n",
        "chunks = nltk.ne_chunk(tags)\n",
        "df = pd.DataFrame(chunks)\n",
        "df.columns = ['Word', 'IOB Notation']\n",
        "df.head()"
      ],
      "metadata": {
        "id": "GIqgX4EkPQcJ",
        "colab": {
          "base_uri": "https://localhost:8080/",
          "height": 206
        },
        "outputId": "d12f3b0d-cecd-41dc-ba48-688d50dd3f4c"
      },
      "execution_count": null,
      "outputs": [
        {
          "output_type": "execute_result",
          "data": {
            "text/plain": [
              "         Word IOB Notation\n",
              "0         are          VBP\n",
              "1         for           IN\n",
              "2         the           DT\n",
              "3  production           NN\n",
              "4          of           IN"
            ],
            "text/html": [
              "\n",
              "  <div id=\"df-37a0623f-6065-47ef-b0a6-b0393bd8e3e4\" class=\"colab-df-container\">\n",
              "    <div>\n",
              "<style scoped>\n",
              "    .dataframe tbody tr th:only-of-type {\n",
              "        vertical-align: middle;\n",
              "    }\n",
              "\n",
              "    .dataframe tbody tr th {\n",
              "        vertical-align: top;\n",
              "    }\n",
              "\n",
              "    .dataframe thead th {\n",
              "        text-align: right;\n",
              "    }\n",
              "</style>\n",
              "<table border=\"1\" class=\"dataframe\">\n",
              "  <thead>\n",
              "    <tr style=\"text-align: right;\">\n",
              "      <th></th>\n",
              "      <th>Word</th>\n",
              "      <th>IOB Notation</th>\n",
              "    </tr>\n",
              "  </thead>\n",
              "  <tbody>\n",
              "    <tr>\n",
              "      <th>0</th>\n",
              "      <td>are</td>\n",
              "      <td>VBP</td>\n",
              "    </tr>\n",
              "    <tr>\n",
              "      <th>1</th>\n",
              "      <td>for</td>\n",
              "      <td>IN</td>\n",
              "    </tr>\n",
              "    <tr>\n",
              "      <th>2</th>\n",
              "      <td>the</td>\n",
              "      <td>DT</td>\n",
              "    </tr>\n",
              "    <tr>\n",
              "      <th>3</th>\n",
              "      <td>production</td>\n",
              "      <td>NN</td>\n",
              "    </tr>\n",
              "    <tr>\n",
              "      <th>4</th>\n",
              "      <td>of</td>\n",
              "      <td>IN</td>\n",
              "    </tr>\n",
              "  </tbody>\n",
              "</table>\n",
              "</div>\n",
              "    <div class=\"colab-df-buttons\">\n",
              "\n",
              "  <div class=\"colab-df-container\">\n",
              "    <button class=\"colab-df-convert\" onclick=\"convertToInteractive('df-37a0623f-6065-47ef-b0a6-b0393bd8e3e4')\"\n",
              "            title=\"Convert this dataframe to an interactive table.\"\n",
              "            style=\"display:none;\">\n",
              "\n",
              "  <svg xmlns=\"http://www.w3.org/2000/svg\" height=\"24px\" viewBox=\"0 -960 960 960\">\n",
              "    <path d=\"M120-120v-720h720v720H120Zm60-500h600v-160H180v160Zm220 220h160v-160H400v160Zm0 220h160v-160H400v160ZM180-400h160v-160H180v160Zm440 0h160v-160H620v160ZM180-180h160v-160H180v160Zm440 0h160v-160H620v160Z\"/>\n",
              "  </svg>\n",
              "    </button>\n",
              "\n",
              "  <style>\n",
              "    .colab-df-container {\n",
              "      display:flex;\n",
              "      gap: 12px;\n",
              "    }\n",
              "\n",
              "    .colab-df-convert {\n",
              "      background-color: #E8F0FE;\n",
              "      border: none;\n",
              "      border-radius: 50%;\n",
              "      cursor: pointer;\n",
              "      display: none;\n",
              "      fill: #1967D2;\n",
              "      height: 32px;\n",
              "      padding: 0 0 0 0;\n",
              "      width: 32px;\n",
              "    }\n",
              "\n",
              "    .colab-df-convert:hover {\n",
              "      background-color: #E2EBFA;\n",
              "      box-shadow: 0px 1px 2px rgba(60, 64, 67, 0.3), 0px 1px 3px 1px rgba(60, 64, 67, 0.15);\n",
              "      fill: #174EA6;\n",
              "    }\n",
              "\n",
              "    .colab-df-buttons div {\n",
              "      margin-bottom: 4px;\n",
              "    }\n",
              "\n",
              "    [theme=dark] .colab-df-convert {\n",
              "      background-color: #3B4455;\n",
              "      fill: #D2E3FC;\n",
              "    }\n",
              "\n",
              "    [theme=dark] .colab-df-convert:hover {\n",
              "      background-color: #434B5C;\n",
              "      box-shadow: 0px 1px 3px 1px rgba(0, 0, 0, 0.15);\n",
              "      filter: drop-shadow(0px 1px 2px rgba(0, 0, 0, 0.3));\n",
              "      fill: #FFFFFF;\n",
              "    }\n",
              "  </style>\n",
              "\n",
              "    <script>\n",
              "      const buttonEl =\n",
              "        document.querySelector('#df-37a0623f-6065-47ef-b0a6-b0393bd8e3e4 button.colab-df-convert');\n",
              "      buttonEl.style.display =\n",
              "        google.colab.kernel.accessAllowed ? 'block' : 'none';\n",
              "\n",
              "      async function convertToInteractive(key) {\n",
              "        const element = document.querySelector('#df-37a0623f-6065-47ef-b0a6-b0393bd8e3e4');\n",
              "        const dataTable =\n",
              "          await google.colab.kernel.invokeFunction('convertToInteractive',\n",
              "                                                    [key], {});\n",
              "        if (!dataTable) return;\n",
              "\n",
              "        const docLinkHtml = 'Like what you see? Visit the ' +\n",
              "          '<a target=\"_blank\" href=https://colab.research.google.com/notebooks/data_table.ipynb>data table notebook</a>'\n",
              "          + ' to learn more about interactive tables.';\n",
              "        element.innerHTML = '';\n",
              "        dataTable['output_type'] = 'display_data';\n",
              "        await google.colab.output.renderOutput(dataTable, element);\n",
              "        const docLink = document.createElement('div');\n",
              "        docLink.innerHTML = docLinkHtml;\n",
              "        element.appendChild(docLink);\n",
              "      }\n",
              "    </script>\n",
              "  </div>\n",
              "\n",
              "\n",
              "<div id=\"df-ad3729ec-30bf-4f43-92c7-0bb0d363543c\">\n",
              "  <button class=\"colab-df-quickchart\" onclick=\"quickchart('df-ad3729ec-30bf-4f43-92c7-0bb0d363543c')\"\n",
              "            title=\"Suggest charts\"\n",
              "            style=\"display:none;\">\n",
              "\n",
              "<svg xmlns=\"http://www.w3.org/2000/svg\" height=\"24px\"viewBox=\"0 0 24 24\"\n",
              "     width=\"24px\">\n",
              "    <g>\n",
              "        <path d=\"M19 3H5c-1.1 0-2 .9-2 2v14c0 1.1.9 2 2 2h14c1.1 0 2-.9 2-2V5c0-1.1-.9-2-2-2zM9 17H7v-7h2v7zm4 0h-2V7h2v10zm4 0h-2v-4h2v4z\"/>\n",
              "    </g>\n",
              "</svg>\n",
              "  </button>\n",
              "\n",
              "<style>\n",
              "  .colab-df-quickchart {\n",
              "      --bg-color: #E8F0FE;\n",
              "      --fill-color: #1967D2;\n",
              "      --hover-bg-color: #E2EBFA;\n",
              "      --hover-fill-color: #174EA6;\n",
              "      --disabled-fill-color: #AAA;\n",
              "      --disabled-bg-color: #DDD;\n",
              "  }\n",
              "\n",
              "  [theme=dark] .colab-df-quickchart {\n",
              "      --bg-color: #3B4455;\n",
              "      --fill-color: #D2E3FC;\n",
              "      --hover-bg-color: #434B5C;\n",
              "      --hover-fill-color: #FFFFFF;\n",
              "      --disabled-bg-color: #3B4455;\n",
              "      --disabled-fill-color: #666;\n",
              "  }\n",
              "\n",
              "  .colab-df-quickchart {\n",
              "    background-color: var(--bg-color);\n",
              "    border: none;\n",
              "    border-radius: 50%;\n",
              "    cursor: pointer;\n",
              "    display: none;\n",
              "    fill: var(--fill-color);\n",
              "    height: 32px;\n",
              "    padding: 0;\n",
              "    width: 32px;\n",
              "  }\n",
              "\n",
              "  .colab-df-quickchart:hover {\n",
              "    background-color: var(--hover-bg-color);\n",
              "    box-shadow: 0 1px 2px rgba(60, 64, 67, 0.3), 0 1px 3px 1px rgba(60, 64, 67, 0.15);\n",
              "    fill: var(--button-hover-fill-color);\n",
              "  }\n",
              "\n",
              "  .colab-df-quickchart-complete:disabled,\n",
              "  .colab-df-quickchart-complete:disabled:hover {\n",
              "    background-color: var(--disabled-bg-color);\n",
              "    fill: var(--disabled-fill-color);\n",
              "    box-shadow: none;\n",
              "  }\n",
              "\n",
              "  .colab-df-spinner {\n",
              "    border: 2px solid var(--fill-color);\n",
              "    border-color: transparent;\n",
              "    border-bottom-color: var(--fill-color);\n",
              "    animation:\n",
              "      spin 1s steps(1) infinite;\n",
              "  }\n",
              "\n",
              "  @keyframes spin {\n",
              "    0% {\n",
              "      border-color: transparent;\n",
              "      border-bottom-color: var(--fill-color);\n",
              "      border-left-color: var(--fill-color);\n",
              "    }\n",
              "    20% {\n",
              "      border-color: transparent;\n",
              "      border-left-color: var(--fill-color);\n",
              "      border-top-color: var(--fill-color);\n",
              "    }\n",
              "    30% {\n",
              "      border-color: transparent;\n",
              "      border-left-color: var(--fill-color);\n",
              "      border-top-color: var(--fill-color);\n",
              "      border-right-color: var(--fill-color);\n",
              "    }\n",
              "    40% {\n",
              "      border-color: transparent;\n",
              "      border-right-color: var(--fill-color);\n",
              "      border-top-color: var(--fill-color);\n",
              "    }\n",
              "    60% {\n",
              "      border-color: transparent;\n",
              "      border-right-color: var(--fill-color);\n",
              "    }\n",
              "    80% {\n",
              "      border-color: transparent;\n",
              "      border-right-color: var(--fill-color);\n",
              "      border-bottom-color: var(--fill-color);\n",
              "    }\n",
              "    90% {\n",
              "      border-color: transparent;\n",
              "      border-bottom-color: var(--fill-color);\n",
              "    }\n",
              "  }\n",
              "</style>\n",
              "\n",
              "  <script>\n",
              "    async function quickchart(key) {\n",
              "      const quickchartButtonEl =\n",
              "        document.querySelector('#' + key + ' button');\n",
              "      quickchartButtonEl.disabled = true;  // To prevent multiple clicks.\n",
              "      quickchartButtonEl.classList.add('colab-df-spinner');\n",
              "      try {\n",
              "        const charts = await google.colab.kernel.invokeFunction(\n",
              "            'suggestCharts', [key], {});\n",
              "      } catch (error) {\n",
              "        console.error('Error during call to suggestCharts:', error);\n",
              "      }\n",
              "      quickchartButtonEl.classList.remove('colab-df-spinner');\n",
              "      quickchartButtonEl.classList.add('colab-df-quickchart-complete');\n",
              "    }\n",
              "    (() => {\n",
              "      let quickchartButtonEl =\n",
              "        document.querySelector('#df-ad3729ec-30bf-4f43-92c7-0bb0d363543c button');\n",
              "      quickchartButtonEl.style.display =\n",
              "        google.colab.kernel.accessAllowed ? 'block' : 'none';\n",
              "    })();\n",
              "  </script>\n",
              "</div>\n",
              "\n",
              "    </div>\n",
              "  </div>\n"
            ],
            "application/vnd.google.colaboratory.intrinsic+json": {
              "type": "dataframe",
              "variable_name": "df",
              "summary": "{\n  \"name\": \"df\",\n  \"rows\": 150,\n  \"fields\": [\n    {\n      \"column\": \"Word\",\n      \"properties\": {\n        \"dtype\": \"category\",\n        \"num_unique_values\": 45,\n        \"samples\": [\n          \"with\",\n          \"d\",\n          \"z\"\n        ],\n        \"semantic_type\": \"\",\n        \"description\": \"\"\n      }\n    },\n    {\n      \"column\": \"IOB Notation\",\n      \"properties\": {\n        \"dtype\": \"category\",\n        \"num_unique_values\": 14,\n        \"samples\": [\n          \"RB\",\n          \"WDT\",\n          \"VBP\"\n        ],\n        \"semantic_type\": \"\",\n        \"description\": \"\"\n      }\n    }\n  ]\n}"
            }
          },
          "metadata": {},
          "execution_count": 14
        }
      ]
    },
    {
      "cell_type": "markdown",
      "source": [
        "# Sentiment analysis"
      ],
      "metadata": {
        "id": "kF0Dv2wrPayY"
      }
    },
    {
      "cell_type": "code",
      "source": [
        "# Create a sentiment intensity analyzer object\n",
        "from nltk.sentiment import SentimentIntensityAnalyzer\n",
        "sia = SentimentIntensityAnalyzer()\n",
        "\n",
        "# Analyze the sentiment of the sentence\n",
        "scores = sia.polarity_scores(text)\n",
        "scores"
      ],
      "metadata": {
        "id": "k5Q2COGcPbkg",
        "colab": {
          "base_uri": "https://localhost:8080/"
        },
        "outputId": "104010c6-05d7-4643-bdb0-81433d3f77ea"
      },
      "execution_count": null,
      "outputs": [
        {
          "output_type": "execute_result",
          "data": {
            "text/plain": [
              "{'neg': 0.0, 'neu': 0.813, 'pos': 0.187, 'compound': 0.9738}"
            ]
          },
          "metadata": {},
          "execution_count": 15
        }
      ]
    },
    {
      "cell_type": "markdown",
      "source": [
        "NLTK analyzes the sentiment of the sentence using four scores: negative (neg), neutral (neu), positive (pos), and compound (compound). The compound score is a normalized value that ranges from -1 (most negative) to +1 (most positive) and represents the overall sentiment of the sentence. The other scores indicate the proportion of each sentiment in the sentence."
      ],
      "metadata": {
        "id": "zoq33lOsPj9j"
      }
    }
  ]
}